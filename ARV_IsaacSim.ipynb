{
  "nbformat": 4,
  "nbformat_minor": 0,
  "metadata": {
    "colab": {
      "provenance": [],
      "authorship_tag": "ABX9TyOjEw/iZCu/uLNwy6Wsch1G",
      "include_colab_link": true
    },
    "kernelspec": {
      "name": "python3",
      "display_name": "Python 3"
    },
    "language_info": {
      "name": "python"
    }
  },
  "cells": [
    {
      "cell_type": "markdown",
      "metadata": {
        "id": "view-in-github",
        "colab_type": "text"
      },
      "source": [
        "<a href=\"https://colab.research.google.com/github/nalrob/Me/blob/main/ARV_IsaacSim.ipynb\" target=\"_parent\"><img src=\"https://colab.research.google.com/assets/colab-badge.svg\" alt=\"Open In Colab\"/></a>"
      ]
    },
    {
      "cell_type": "markdown",
      "source": [
        "# ¿Qué es Cortex y cómo se integra con Isaac Sim?"
      ],
      "metadata": {
        "id": "cS3GU8bfHAkX"
      }
    },
    {
      "cell_type": "markdown",
      "source": [
        "NVIDIA Isaac Sim™ es una aplicación de referencia creada en NVIDIA Omniverse que permite a los desarrolladores desarrollar, simular y probar robots controlados por IA en entornos virtuales basados ​​​​en física."
      ],
      "metadata": {
        "id": "hhxr3vSLYm6u"
      }
    },
    {
      "cell_type": "markdown",
      "source": [
        "Pipeline de Cortex\n",
        "\n",
        "1. Percepción: Los flujos sensoriales se procesan para obtener información sobre lo que hay en el mundo y dónde están esos objetos.\n",
        "\n",
        "2. Modelado del mundo: esta información se escribe en la base de datos de USD. USD representa nuestra creencia mundial y captura toda la información disponible.\n",
        "\n",
        "3. Monitoreo del estado lógico: monitorea mundo y registran el estado lógico actual del entorno. El estado lógico incluye información discreta, como si una puerta está abierta o cerrada.\n",
        "\n",
        "4. Toma de decisiones: en función del modelo del mundo y del estado lógico, el sistema debe decidir qué hacer. Lo que se debe hacer se define mediante los comandos disponibles a través de la API de comandos expuesta.\n",
        "\n",
        "5. API de comandos (políticas): el comportamiento está determinado por políticas, y cada política está regida por un conjunto de parámetros.\n",
        "\n",
        "6. Control: Y finalmente, el control de bajo nivel sincroniza el estado robótico interno con el robot físico para su ejecución en tiempo real.\n"
      ],
      "metadata": {
        "id": "QrtnZ1sEHQvq"
      }
    },
    {
      "cell_type": "markdown",
      "source": [
        "Integración"
      ],
      "metadata": {
        "id": "k-bhbwCnOp7F"
      }
    },
    {
      "cell_type": "markdown",
      "source": [
        "  >El *Mundo de comandos*- (2)mundo, (3)lógica, (4)decisiones, (4)comandos ocurre desde la mente del robot y se simula en la API.\n",
        "  \n",
        "  >La *(1)Percepcion y (6)Control desde ROS*"
      ],
      "metadata": {
        "id": "TeLowJODGqQ5"
      }
    },
    {
      "cell_type": "markdown",
      "source": [
        "# I. Instancia y Entorno"
      ],
      "metadata": {
        "id": "Qf_A1PSbXkzu"
      }
    },
    {
      "cell_type": "markdown",
      "source": [
        "### I.I. Creación de una instancia de Isaac Sim."
      ],
      "metadata": {
        "id": "ekh8PjjAXqio"
      }
    },
    {
      "cell_type": "code",
      "source": [
        "from isaacsim import SimulationApp\n",
        "\n",
        "# Crear una instancia de la simulación (puede ser en modo headless o con GUI)\n",
        "simulation_app = SimulationApp({\"headless\": False})  # False para visualizar, True para ejecutar sin GUI"
      ],
      "metadata": {
        "id": "XHOA4MijcSXb"
      },
      "execution_count": null,
      "outputs": []
    },
    {
      "cell_type": "markdown",
      "source": [
        "### I.II. Creación de un entorno"
      ],
      "metadata": {
        "id": "JBFIKtXgeyI5"
      }
    },
    {
      "cell_type": "markdown",
      "source": [
        "Cómo crear un mundo y agregar un robot se configura en `isaacsim/cortex/framework/cortex_world.py\n",
        "`"
      ],
      "metadata": {
        "id": "ugOuXLWVf_Gu"
      }
    },
    {
      "cell_type": "code",
      "source": [
        "from isaacsim.cortex.framework.cortex_world import CortexWorld\n",
        "from isaacsim.cortex.framework.robot import add_franka_to_stage\n",
        "\n",
        "# Crear el mundo de simulación de Cortex\n",
        "world = CortexWorld()\n",
        "\n",
        "# Agregar un robot Franka a la escena\n",
        "robot = world.add_robot(add_ur20_to_stage(name=\"ur20\", prim_path=\"/World/ur20\"))\n",
        "\n",
        "# Agregar un plano de suelo a la simulación\n",
        "world.scene.add_default_ground_plane()"
      ],
      "metadata": {
        "id": "SByR5_Cae6Cm"
      },
      "execution_count": null,
      "outputs": []
    },
    {
      "cell_type": "markdown",
      "source": [
        "Como crear un comportamiento, y ejecutarlo."
      ],
      "metadata": {
        "id": "KF4iLSsBUlmQ"
      }
    },
    {
      "cell_type": "code",
      "source": [
        "def step(self, render: bool = True, step_sim: bool = True) -> None:\n",
        "    if self._task_scene_built:\n",
        "        ...\n",
        "        if self.is_playing():\n",
        "            # **Flujo de Cortex:**\n",
        "            # 1. Procesar los monitores de estado lógico antes del paso de simulación.\n",
        "            # 2. Tomar decisiones basadas en el estado lógico (envía comandos a los comandantes del robot).\n",
        "            # 3. Ejecutar los comandantes del robot para procesar esos comandos.\n",
        "\n",
        "            # Paso 1: Procesar los monitores de estado lógico antes de la simulación.\n",
        "            for ls_monitor in self._logical_state_monitors.values():\n",
        "                ls_monitor.pre_step()\n",
        "\n",
        "            # Paso 2: Evaluar los comportamientos antes de la simulación.\n",
        "            for behavior in self._behaviors.values():\n",
        "                behavior.pre_step()\n",
        "\n",
        "            # Paso 3: Ejecutar los pasos previos de los robots antes de la simulación.\n",
        "            for robot in self._robots.values():\n",
        "                robot.pre_step()\n",
        "        ...\n"
      ],
      "metadata": {
        "id": "WurwRPXCUupI"
      },
      "execution_count": null,
      "outputs": []
    },
    {
      "cell_type": "markdown",
      "source": [
        "Despues de configurar escena se debe iniciar loop de simulación."
      ],
      "metadata": {
        "id": "DX3eutV5feuJ"
      }
    },
    {
      "cell_type": "code",
      "source": [
        "# Iniciar la simulación con el mundo de Cortex\n",
        "world.run(simulation_app)"
      ],
      "metadata": {
        "id": "ics0kfb5fk9D"
      },
      "execution_count": null,
      "outputs": []
    },
    {
      "cell_type": "code",
      "source": [
        "# Cerrar la simulación cuando termine\n",
        "simulation_app.close()"
      ],
      "metadata": {
        "id": "CUWZUQHDfra4"
      },
      "execution_count": null,
      "outputs": []
    },
    {
      "cell_type": "markdown",
      "source": [
        "# II. Conceptos clave"
      ],
      "metadata": {
        "id": "8Sva0MwrZJU2"
      }
    },
    {
      "cell_type": "markdown",
      "source": [
        "### II.I. Command API"
      ],
      "metadata": {
        "id": "4_RqWuqCcEzA"
      }
    },
    {
      "cell_type": "markdown",
      "source": [
        "### II.II. Cálculos de la matriz de rotación"
      ],
      "metadata": {
        "id": "k0FIvO7SKQ-K"
      }
    },
    {
      "cell_type": "markdown",
      "source": [
        "### II.II Red de toma de decisiones"
      ],
      "metadata": {
        "id": "Xea7tTydLFQy"
      }
    },
    {
      "cell_type": "markdown",
      "source": [
        "# III. Implementación de un Robot con Cortex"
      ],
      "metadata": {
        "id": "MJmUkQPdbr8e"
      }
    },
    {
      "cell_type": "markdown",
      "source": [
        "Rutinas clave se implementan en ..."
      ],
      "metadata": {
        "id": "QQxznrDpurOz"
      }
    },
    {
      "cell_type": "markdown",
      "source": [
        "III.I. Stand By: AGV espera en estación de carga energética esperando orden​"
      ],
      "metadata": {
        "id": "WNFldMbVuvQN"
      }
    },
    {
      "cell_type": "markdown",
      "source": [
        "III.II. Identificación: AGV recibe orden, navega a la posición e identifica la tarima a recoger​\n"
      ],
      "metadata": {
        "id": "PiS9LAkEu02x"
      }
    },
    {
      "cell_type": "markdown",
      "source": [
        "\n",
        "III.III. Traslado: El AGV levanta la tarima, navega a la posición de deposito​"
      ],
      "metadata": {
        "id": "Ib26_V1Yu4_o"
      }
    },
    {
      "cell_type": "markdown",
      "source": [
        "\n",
        "III.IV. Deposito: El AGV identifica si ya hay tarima en esa posición, de ser así busca otro espacio para dejar la tarima en espera​."
      ],
      "metadata": {
        "id": "S35EpakZvAi6"
      }
    },
    {
      "cell_type": "markdown",
      "source": [
        "III.V. Reasignación: El AGV navega hacia la estación de carga energética, pero si está cerca de una tarima a recoger, se le asigna y repite las rutinas anteriores.​"
      ],
      "metadata": {
        "id": "jnTJaFSivFhZ"
      }
    },
    {
      "cell_type": "markdown",
      "source": [
        "\n",
        "III.VI. Stand By: Si AGV no estaba en la estación y llega a la estación, se conecta y entra en modo de espera de orden."
      ],
      "metadata": {
        "id": "mVv8ZSQsvKVd"
      }
    },
    {
      "cell_type": "markdown",
      "source": [
        "# IV. Integración Software & Hardware"
      ],
      "metadata": {
        "id": "CqFyCgkPb3DH"
      }
    },
    {
      "cell_type": "markdown",
      "source": [
        "### Integración de sensores"
      ],
      "metadata": {
        "id": "ULCLUNKAynD5"
      }
    },
    {
      "cell_type": "markdown",
      "source": [
        "Componentes clave:\n",
        ">Base\n",
        "\n",
        ">Gripper\n",
        "\n",
        ">Brazo"
      ],
      "metadata": {
        "id": "TYxBs3dnuRaZ"
      }
    },
    {
      "cell_type": "markdown",
      "source": [
        "Hardware:\n",
        ">UR20\n",
        "\n",
        ">R14 (elevador)\n",
        "\n",
        ">Robotics Vision\n",
        "\n",
        ">E10 Slam\n",
        "\n",
        ">TM12 (brazo)"
      ],
      "metadata": {
        "id": "1QeoeVzuubTM"
      }
    },
    {
      "cell_type": "markdown",
      "source": [
        "### Estado Lógico"
      ],
      "metadata": {
        "id": "VrHO1jalypqz"
      }
    },
    {
      "cell_type": "markdown",
      "source": [
        "El marco de decisión completo se implementa en:\n",
        "`isaacsim.cortex.framework/isaacsim/cortex/framework/df.py`"
      ],
      "metadata": {
        "id": "5JXoCW1qQrb1"
      }
    },
    {
      "cell_type": "code",
      "execution_count": null,
      "metadata": {
        "id": "W-bSlT7w_wUN"
      },
      "outputs": [],
      "source": [
        "# Importar la aplicación de simulación de Isaac Sim\n",
        "from isaacsim import SimulationApp\n",
        "simulation_app = SimulationApp({\"headless\": False})  # Ejecutar con renderizado activo\n",
        "\n",
        "# Importar módulos de Cortex para la simulación y control del robot\n",
        "from isaacsim.cortex.framework.cortex_world import CortexWorld\n",
        "from isaacsim.cortex.framework.df import DfNetwork, DfDecider\n",
        "from isaacsim.cortex.framework.dfb import DfContext\n",
        "from isaacsim.cortex.framework.robot import add_franka_to_stage\n",
        "\n",
        "# Definir un contexto personalizado para manejar el estado lógico del robot\n",
        "class CustomContext(DfContext):\n",
        "    def __init__(self, robot):\n",
        "        super().__init__(robot)\n",
        "\n",
        "    def reset(self):\n",
        "        # Se ejecuta antes de que inicie el comportamiento, útil para inicializar estados\n",
        "        self.has_work = False\n",
        "\n",
        "    def monitor_work(self):\n",
        "        # Método para monitorear si hay trabajo pendiente (debe ser implementado)\n",
        "        ...\n",
        "\n",
        "# Definir un Decider para gestionar las acciones del robot\n",
        "class Dispatch(DfDecider):\n",
        "    def __init__(self):\n",
        "        super().__init__()\n",
        "        self.add_child(\"go_home\", GoHome())  # Acción para regresar a casa\n",
        "        self.add_child(\"do_work\", DoWork())  # Acción para realizar trabajo\n",
        "\n",
        "    def decide(self):\n",
        "        # Lógica de decisión basada en el estado del contexto\n",
        "        if self.context.has_work:\n",
        "            return DfDecision(\"do_work\")  # Si hay trabajo, ejecutar la acción correspondiente\n",
        "        else:\n",
        "            return DfDecision(\"go_home\")  # De lo contrario, regresar a casa\n",
        "\n",
        "# Crear el mundo de simulación Cortex\n",
        "world = CortexWorld()\n",
        "\n",
        "# Agregar el robot Franka al entorno de simulación\n",
        "robot = world.add_robot(add_franka_to_stage(name=\"franka\", prim_path=\"/World/franka\"))\n",
        "\n",
        "# Agregar un plano de suelo predeterminado a la escena\n",
        "world.scene.add_default_ground_plane()\n",
        "\n",
        "# Crear la red de decisión con el decider y el contexto personalizado\n",
        "decider_network = DfNetwork(Dispatch(), context=CustomContext())\n",
        "\n",
        "# Agregar la red de decisión al mundo\n",
        "world.add_decider_network(decider_network)\n",
        "\n",
        "# Iniciar la simulación\n",
        "world.run(simulation_app)\n",
        "\n",
        "# Cerrar la simulación al finalizar\n",
        "simulation_app.close()"
      ]
    }
  ]
}